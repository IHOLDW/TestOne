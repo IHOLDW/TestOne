{
 "cells": [
  {
   "cell_type": "code",
   "execution_count": 1,
   "metadata": {},
   "outputs": [
    {
     "name": "stdout",
     "output_type": "stream",
     "text": [
      "WARNING:tensorflow:From c:\\Users\\s9554\\miniconda3\\Lib\\site-packages\\keras\\src\\losses.py:2976: The name tf.losses.sparse_softmax_cross_entropy is deprecated. Please use tf.compat.v1.losses.sparse_softmax_cross_entropy instead.\n",
      "\n"
     ]
    }
   ],
   "source": [
    "import cv2\n",
    "import mediapipe as mp\n",
    "import numpy as np "
   ]
  },
  {
   "cell_type": "code",
   "execution_count": 3,
   "metadata": {},
   "outputs": [],
   "source": [
    "mp_pose = mp.solutions.pose\n",
    "pose_model = mp_pose.Pose(\n",
    "    min_detection_confidence=0.5,\n",
    "    min_tracking_confidence=0.5\n",
    ")\n",
    "mp_drawing = mp.solutions.drawing_utils\n",
    "cap = cv2.VideoCapture(0)\n",
    "\n",
    "frame_width = int(cap.get(3)) \n",
    "frame_height = int(cap.get(4)) \n",
    "   \n",
    "size = (frame_width, frame_height) \n",
    "   \n",
    "# Below VideoWriter object will create \n",
    "# a frame of above defined The output  \n",
    "# is stored in 'filename.avi' file. \n",
    "out = cv2.VideoWriter('out.avi',  \n",
    "                         cv2.VideoWriter_fourcc(*'MJPG'), \n",
    "                         20, size) \n",
    "\n",
    "# Resizable window\n",
    "cv2.namedWindow('Media Pipe Pose Estimation', cv2.WINDOW_NORMAL)\n",
    "while cap.isOpened():\n",
    "    success, image = cap.read()\n",
    "    if not success:\n",
    "        print(\"End of video\")\n",
    "        break\n",
    "\n",
    "        # Drawing\n",
    "    image.flags.writeable = False\n",
    "    image = cv2.cvtColor(image, cv2.COLOR_BGR2RGB)\n",
    "    results = pose_model.process(image)\n",
    "\n",
    "    image.flags.writeable = True\n",
    "    image = cv2.cvtColor(image, cv2.COLOR_RGB2BGR)\n",
    "\n",
    "    mp_drawing.draw_landmarks(\n",
    "        image,\n",
    "        results.pose_landmarks,\n",
    "        mp_pose.POSE_CONNECTIONS,\n",
    "    )\n",
    "        # Resize the window to match the video frame size\n",
    "    cv2.imshow('Media Pipe Pose Estimation', image)\n",
    "    out.write(image)\n",
    "        \n",
    "    if cv2.waitKey(1) & 0xFF == ord('q'):\n",
    "        break\n",
    "\n",
    "cap.release()\n",
    "out.release() \n",
    "cv2.destroyAllWindows()"
   ]
  },
  {
   "cell_type": "code",
   "execution_count": 7,
   "metadata": {},
   "outputs": [],
   "source": [
    "cap.release()\n",
    "out.release() \n",
    "cv2.destroyAllWindows()"
   ]
  },
  {
   "cell_type": "code",
   "execution_count": 15,
   "metadata": {},
   "outputs": [
    {
     "name": "stdout",
     "output_type": "stream",
     "text": [
      "The video was successfully saved\n"
     ]
    }
   ],
   "source": [
    "# Python program to save a  \n",
    "# video using OpenCV \n",
    "  \n",
    "   \n",
    "import cv2 \n",
    "  \n",
    "   \n",
    "# Create an object to read  \n",
    "# from camera \n",
    "video = cv2.VideoCapture(0) \n",
    "   \n",
    "# We need to check if camera \n",
    "# is opened previously or not \n",
    "if (video.isOpened() == False):  \n",
    "    print(\"Error reading video file\") \n",
    "  \n",
    "# We need to set resolutions. \n",
    "# so, convert them from float to integer. \n",
    "frame_width = int(video.get(3)) \n",
    "frame_height = int(video.get(4)) \n",
    "   \n",
    "size = (frame_width, frame_height) \n",
    "   \n",
    "# Below VideoWriter object will create \n",
    "# a frame of above defined The output  \n",
    "# is stored in 'filename.avi' file. \n",
    "result = cv2.VideoWriter('filename.avi',  \n",
    "                         cv2.VideoWriter_fourcc(*'MJPG'), \n",
    "                         30, size) \n",
    "    \n",
    "while(True): \n",
    "    ret, frame = video.read() \n",
    "  \n",
    "    if ret == True:  \n",
    "  \n",
    "        # Write the frame into the \n",
    "        # file 'filename.avi' \n",
    "        result.write(frame) \n",
    "  \n",
    "        # Display the frame \n",
    "        # saved in the file \n",
    "        cv2.imshow('Frame', frame) \n",
    "  \n",
    "        # Press S on keyboard  \n",
    "        # to stop the process \n",
    "        if cv2.waitKey(0) & 0xFF == ord('s'): \n",
    "            break\n",
    "  \n",
    "    # Break the loop \n",
    "    else: \n",
    "        break\n",
    "  \n",
    "# When everything done, release  \n",
    "# the video capture and video  \n",
    "# write objects \n",
    "video.release() \n",
    "result.release() \n",
    "    \n",
    "# Closes all the frames \n",
    "cv2.destroyAllWindows() \n",
    "   \n",
    "print(\"The video was successfully saved\") "
   ]
  },
  {
   "cell_type": "code",
   "execution_count": null,
   "metadata": {},
   "outputs": [],
   "source": []
  }
 ],
 "metadata": {
  "kernelspec": {
   "display_name": "base",
   "language": "python",
   "name": "python3"
  },
  "language_info": {
   "codemirror_mode": {
    "name": "ipython",
    "version": 3
   },
   "file_extension": ".py",
   "mimetype": "text/x-python",
   "name": "python",
   "nbconvert_exporter": "python",
   "pygments_lexer": "ipython3",
   "version": "3.11.7"
  }
 },
 "nbformat": 4,
 "nbformat_minor": 2
}
