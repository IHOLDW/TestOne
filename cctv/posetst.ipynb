{
 "cells": [
  {
   "cell_type": "code",
   "execution_count": 2,
   "metadata": {},
   "outputs": [
    {
     "name": "stdout",
     "output_type": "stream",
     "text": [
      "WARNING:tensorflow:From c:\\Users\\s9554\\miniconda3\\Lib\\site-packages\\keras\\src\\losses.py:2976: The name tf.losses.sparse_softmax_cross_entropy is deprecated. Please use tf.compat.v1.losses.sparse_softmax_cross_entropy instead.\n",
      "\n"
     ]
    }
   ],
   "source": [
    "import cv2\n",
    "import mediapipe as mp\n",
    "import time\n",
    "import sys"
   ]
  },
  {
   "cell_type": "code",
   "execution_count": 21,
   "metadata": {},
   "outputs": [],
   "source": [
    "mp_hand = mp.solutions.hands\n",
    "hands_model = mp_hand.Hands(\n",
    "    min_detection_confidence=0.5,\n",
    "    min_tracking_confidence=0.5\n",
    ")\n",
    "mp_drawing = mp.solutions.drawing_utils"
   ]
  },
  {
   "cell_type": "code",
   "execution_count": 25,
   "metadata": {},
   "outputs": [
    {
     "ename": "TypeError",
     "evalue": "'NoneType' object is not iterable",
     "output_type": "error",
     "traceback": [
      "\u001b[1;31m---------------------------------------------------------------------------\u001b[0m",
      "\u001b[1;31mTypeError\u001b[0m                                 Traceback (most recent call last)",
      "Cell \u001b[1;32mIn[25], line 28\u001b[0m\n\u001b[0;32m     16\u001b[0m img2 \u001b[38;5;241m=\u001b[39m cv2\u001b[38;5;241m.\u001b[39mcvtColor(img2, cv2\u001b[38;5;241m.\u001b[39mCOLOR_RGB2BGR)\n\u001b[0;32m     18\u001b[0m \u001b[38;5;66;03m# if results.multi_hand_landmarks:\u001b[39;00m\n\u001b[0;32m     19\u001b[0m \u001b[38;5;66;03m#     for num, hand in enumerate(results.multi_hand_landmarks):\u001b[39;00m\n\u001b[0;32m     20\u001b[0m \u001b[38;5;66;03m#                 mp_drawing.draw_landmarks(\u001b[39;00m\n\u001b[1;32m   (...)\u001b[0m\n\u001b[0;32m     25\u001b[0m \u001b[38;5;66;03m#                     connection_drawing_spec=mp_drawing.DrawingSpec(color=(0, 0, 255), thickness=10),\u001b[39;00m\n\u001b[0;32m     26\u001b[0m \u001b[38;5;66;03m#                 )\u001b[39;00m\n\u001b[1;32m---> 28\u001b[0m \u001b[38;5;28;01mfor\u001b[39;00m hand \u001b[38;5;129;01min\u001b[39;00m results\u001b[38;5;241m.\u001b[39mmulti_hand_landmarks:\n\u001b[0;32m     29\u001b[0m     mp_drawing\u001b[38;5;241m.\u001b[39mdraw_landmarks(\n\u001b[0;32m     30\u001b[0m     img2,\n\u001b[0;32m     31\u001b[0m     hand,\n\u001b[0;32m     32\u001b[0m     mp_hand\u001b[38;5;241m.\u001b[39mHAND_CONNECTIONS\n\u001b[0;32m     33\u001b[0m     )\n\u001b[0;32m     35\u001b[0m cv2\u001b[38;5;241m.\u001b[39mimshow(\u001b[38;5;124m\"\u001b[39m\u001b[38;5;124mFacial and Hand Landmarks\u001b[39m\u001b[38;5;124m\"\u001b[39m, img2)\n",
      "\u001b[1;31mTypeError\u001b[0m: 'NoneType' object is not iterable"
     ]
    }
   ],
   "source": [
    "vid = cv2.VideoCapture(0)\n",
    "\n",
    "while vid.isOpened:\n",
    "    isOk, frame = vid.read()\n",
    "    if not isOk:\n",
    "      print(\"Ignoring empty camera frame.\")\n",
    "      break\n",
    "\n",
    "    frame = cv2.resize(frame, (800, 600))\n",
    "    img2 = cv2.cvtColor(frame, cv2.COLOR_BGR2RGB)\n",
    "\n",
    "    img2.flags.writeable = False\n",
    "    results = hands_model.process(img2)\n",
    "    img2.flags.writeable = True\n",
    "\n",
    "    img2 = cv2.cvtColor(img2, cv2.COLOR_RGB2BGR)\n",
    "\n",
    "    # if results.multi_hand_landmarks:\n",
    "    #     for num, hand in enumerate(results.multi_hand_landmarks):\n",
    "    #                 mp_drawing.draw_landmarks(\n",
    "    #                     image=img2,\n",
    "    #                     landmark_list=hand,\n",
    "    #                     connections=mp_hand.HAND_CONNECTIONS,\n",
    "    #                     landmark_drawing_spec=mp_drawing.DrawingSpec(color=(255, 255, 255), thickness=15),\n",
    "    #                     connection_drawing_spec=mp_drawing.DrawingSpec(color=(0, 0, 255), thickness=10),\n",
    "    #                 )\n",
    "\n",
    "    for hand in results.multi_hand_landmarks:\n",
    "        mp_drawing.draw_landmarks(\n",
    "        img2,\n",
    "        hand,\n",
    "        mp_hand.HAND_CONNECTIONS\n",
    "        )\n",
    "\n",
    "    cv2.imshow(\"Facial and Hand Landmarks\", img2)\n",
    "    if cv2.waitKey(0) & 0xFF == ord('q'):\n",
    "        break\n",
    "\n",
    "vid.release()\n",
    "cv2.destroyAllWindows()"
   ]
  },
  {
   "cell_type": "code",
   "execution_count": 26,
   "metadata": {},
   "outputs": [],
   "source": [
    "vid.release()\n",
    "cv2.destroyAllWindows()"
   ]
  },
  {
   "cell_type": "code",
   "execution_count": 6,
   "metadata": {},
   "outputs": [],
   "source": [
    "mp_holistic = mp.solutions.holistic\n",
    "holistic_model = mp_holistic.Holistic(\n",
    "    min_detection_confidence=0.5,\n",
    "    min_tracking_confidence=0.5\n",
    ")"
   ]
  },
  {
   "cell_type": "code",
   "execution_count": 24,
   "metadata": {},
   "outputs": [],
   "source": [
    "capture = cv2.VideoCapture(0)\n",
    "\n",
    "previousTime = 0\n",
    "currentTime = 0\n",
    "\n",
    "while capture.isOpened():\n",
    "\tret, frame = capture.read()\n",
    "\timage = cv2.cvtColor(frame, cv2.COLOR_BGR2RGB)\n",
    "\n",
    "\timage.flags.writeable = False\n",
    "\tresults = hands_model.process(image)\n",
    "\timage.flags.writeable = True\n",
    "\timage = cv2.cvtColor(image, cv2.COLOR_RGB2BGR)\n",
    "\n",
    "\t# Drawing the Facial Landmarks\n",
    "\t# mp_drawing.draw_landmarks(\n",
    "\t# image,\n",
    "\t# results.face_landmarks,\n",
    "\t# mp_holistic.FACEMESH_CONTOURS,\n",
    "\t# mp_drawing.DrawingSpec(\n",
    "\t# \tcolor=(255,0,255),\n",
    "\t# \tthickness=1,\n",
    "\t# \tcircle_radius=1\n",
    "\t# ),\n",
    "\t# mp_drawing.DrawingSpec(\n",
    "\t# \tcolor=(0,255,255),\n",
    "\t# \tthickness=1,\n",
    "\t# \tcircle_radius=1\n",
    "\t# )\n",
    "\t# )\n",
    "\n",
    "\tif results.multi_hand_landmarks:\n",
    "\t\tfor hand_landmarks in results.multi_hand_landmarks:\n",
    "\t\t\tmp_drawing.draw_landmarks(\n",
    "\t\t\t\timage,\n",
    "\t\t\t\thand_landmarks,\n",
    "\t\t\t\tmp_hand.HAND_CONNECTIONS,\n",
    "\t\t\t\t# mp_drawing_styles.get_default_hand_landmarks_style(),\n",
    "\t\t\t\t# mp_drawing_styles.get_default_hand_connections_style()\n",
    "\t\t\t\t)\n",
    "\n",
    "\t# Drawing Left hand Land Marks\n",
    "\t# mp_drawing.draw_landmarks(\n",
    "\t# image, \n",
    "\t# results.left_hand_landmarks, \n",
    "\t# mp_holistic.HAND_CONNECTIONS\n",
    "\t# )\n",
    "\tcurrentTime = time.time()\n",
    "\tfps = 1 / (currentTime-previousTime)\n",
    "\tpreviousTime = currentTime\n",
    "\tcv2.putText(image, str(int(fps))+\" FPS\", (10, 70), cv2.FONT_HERSHEY_COMPLEX, 1, (0,255,0), 2)\n",
    "\tcv2.imshow(\"Facial and Hand Landmarks\", image)\n",
    "\tif cv2.waitKey(5) & 0xFF == ord('q'):\n",
    "\t\tbreak\n",
    "\n",
    "capture.release()\n",
    "cv2.destroyAllWindows()\n"
   ]
  },
  {
   "cell_type": "code",
   "execution_count": 19,
   "metadata": {},
   "outputs": [],
   "source": [
    "capture.release()\n",
    "cv2.destroyAllWindows()"
   ]
  },
  {
   "cell_type": "code",
   "execution_count": 12,
   "metadata": {},
   "outputs": [],
   "source": [
    "mp_hands = mp.solutions.hands\n",
    "mp_drawing_styles = mp.solutions.drawing_styles"
   ]
  },
  {
   "cell_type": "code",
   "execution_count": 13,
   "metadata": {},
   "outputs": [
    {
     "ename": "KeyboardInterrupt",
     "evalue": "",
     "output_type": "error",
     "traceback": [
      "\u001b[1;31m---------------------------------------------------------------------------\u001b[0m",
      "\u001b[1;31mKeyboardInterrupt\u001b[0m                         Traceback (most recent call last)",
      "Cell \u001b[1;32mIn[13], line 7\u001b[0m\n\u001b[0;32m      2\u001b[0m \u001b[38;5;28;01mwith\u001b[39;00m mp_hands\u001b[38;5;241m.\u001b[39mHands(\n\u001b[0;32m      3\u001b[0m     model_complexity\u001b[38;5;241m=\u001b[39m\u001b[38;5;241m0\u001b[39m,\n\u001b[0;32m      4\u001b[0m     min_detection_confidence\u001b[38;5;241m=\u001b[39m\u001b[38;5;241m0.5\u001b[39m,\n\u001b[0;32m      5\u001b[0m     min_tracking_confidence\u001b[38;5;241m=\u001b[39m\u001b[38;5;241m0.5\u001b[39m) \u001b[38;5;28;01mas\u001b[39;00m hands:\n\u001b[0;32m      6\u001b[0m   \u001b[38;5;28;01mwhile\u001b[39;00m cap\u001b[38;5;241m.\u001b[39misOpened():\n\u001b[1;32m----> 7\u001b[0m     success, image \u001b[38;5;241m=\u001b[39m cap\u001b[38;5;241m.\u001b[39mread()\n\u001b[0;32m      8\u001b[0m     \u001b[38;5;28;01mif\u001b[39;00m \u001b[38;5;129;01mnot\u001b[39;00m success:\n\u001b[0;32m      9\u001b[0m       \u001b[38;5;28mprint\u001b[39m(\u001b[38;5;124m\"\u001b[39m\u001b[38;5;124mIgnoring empty camera frame.\u001b[39m\u001b[38;5;124m\"\u001b[39m)\n",
      "\u001b[1;31mKeyboardInterrupt\u001b[0m: "
     ]
    }
   ],
   "source": [
    "cap = cv2.VideoCapture(0)\n",
    "with mp_hands.Hands(\n",
    "    model_complexity=0,\n",
    "    min_detection_confidence=0.5,\n",
    "    min_tracking_confidence=0.5) as hands:\n",
    "  while cap.isOpened():\n",
    "    success, image = cap.read()\n",
    "\n",
    "    image.flags.writeable = False\n",
    "    image = cv2.cvtColor(image, cv2.COLOR_BGR2RGB)\n",
    "    results = hands.process(image)\n",
    "    image.flags.writeable = True\n",
    "    image = cv2.cvtColor(image, cv2.COLOR_RGB2BGR)\n",
    "    \n",
    "    if results.multi_hand_landmarks:\n",
    "      for hand_landmarks in results.multi_hand_landmarks:\n",
    "        mp_drawing.draw_landmarks(\n",
    "            image,\n",
    "            hand_landmarks,\n",
    "            mp_hands.HAND_CONNECTIONS,\n",
    "            mp_drawing_styles.get_default_hand_landmarks_style(),\n",
    "            mp_drawing_styles.get_default_hand_connections_style())\n",
    "\n",
    "    cv2.imshow('MediaPipe Hands', cv2.flip(image, 1))\n",
    "    if cv2.waitKey(5) & 0xFF == 27:\n",
    "      break"
   ]
  },
  {
   "cell_type": "code",
   "execution_count": 16,
   "metadata": {},
   "outputs": [],
   "source": [
    "cap.release()"
   ]
  },
  {
   "cell_type": "code",
   "execution_count": null,
   "metadata": {},
   "outputs": [],
   "source": []
  }
 ],
 "metadata": {
  "kernelspec": {
   "display_name": "base",
   "language": "python",
   "name": "python3"
  },
  "language_info": {
   "codemirror_mode": {
    "name": "ipython",
    "version": 3
   },
   "file_extension": ".py",
   "mimetype": "text/x-python",
   "name": "python",
   "nbconvert_exporter": "python",
   "pygments_lexer": "ipython3",
   "version": "3.11.7"
  }
 },
 "nbformat": 4,
 "nbformat_minor": 2
}
